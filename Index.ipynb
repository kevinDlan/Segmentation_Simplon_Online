{
 "cells": [
  {
   "cell_type": "markdown",
   "id": "15d34e48",
   "metadata": {},
   "source": [
    "## SEGMENTATION D'UNE BASE DE DONNEES CLIENT"
   ]
  },
  {
   "cell_type": "markdown",
   "id": "10c7b793",
   "metadata": {},
   "source": [
    "1 - Préprocessing"
   ]
  },
  {
   "cell_type": "code",
   "execution_count": null,
   "id": "145d2e36",
   "metadata": {},
   "outputs": [],
   "source": []
  }
 ],
 "metadata": {
  "kernelspec": {
   "display_name": "Python 3",
   "language": "python",
   "name": "python3"
  },
  "language_info": {
   "codemirror_mode": {
    "name": "ipython",
    "version": 3
   },
   "file_extension": ".py",
   "mimetype": "text/x-python",
   "name": "python",
   "nbconvert_exporter": "python",
   "pygments_lexer": "ipython3",
   "version": "3.9.5"
  }
 },
 "nbformat": 4,
 "nbformat_minor": 5
}
